{
 "cells": [
  {
   "cell_type": "markdown",
   "metadata": {},
   "source": [
    "# Data Processing Notebook\n",
    "Goal: Prepare Training Images for Modeling"
   ]
  },
  {
   "cell_type": "code",
   "execution_count": 13,
   "metadata": {},
   "outputs": [],
   "source": [
    "import numpy as np\n",
    "import pandas as pd\n",
    "import time\n",
    "\n",
    "import imageio # for opening the images into np arrays\n",
    "\n",
    "from PIL import Image # for saving new rgb images"
   ]
  },
  {
   "cell_type": "markdown",
   "metadata": {},
   "source": [
    "### Load in Data"
   ]
  },
  {
   "cell_type": "code",
   "execution_count": 5,
   "metadata": {},
   "outputs": [],
   "source": [
    "data_filepath = '../protein_data/all/'\n",
    "df = pd.read_csv(data_filepath + 'clean_train.csv')"
   ]
  },
  {
   "cell_type": "markdown",
   "metadata": {},
   "source": [
    "### Define Function for Converting and Saving Images:"
   ]
  },
  {
   "cell_type": "code",
   "execution_count": 14,
   "metadata": {},
   "outputs": [],
   "source": [
    "def save_rgb_array(im_id):\n",
    "# This function takes in a image id, \n",
    "# then converts all images with that id to a single rbg image and saves it as a .png\n",
    "\n",
    "    # create an empty array to fill with images\n",
    "    rgb = np.empty((512, 512, 3))\n",
    "\n",
    "    i = 0\n",
    "\n",
    "    # Open each RGB color into a single np array\n",
    "    for color in ['red', 'green', 'blue']:\n",
    "        rgb[:,:,i] = imageio.imread('../protein_data/all/train/'+im_id+'_'+color+'.png')\n",
    "        i += 1\n",
    "\n",
    "    # Open the yellow layer separately\n",
    "    yellow = imageio.imread('../protein_data/all/train/'+im_id+'_yellow.png')\n",
    "\n",
    "    # Adding yellow to red and green to convert image to RGB instead of RGBY\n",
    "    rgb[:,:,0] += yellow/2 # adding to red layer\n",
    "    rgb[:,:,1] += yellow/2 # adding to green layer\n",
    "\n",
    "    # Normalize pixel values\n",
    "    rgb = rgb / rgb.max() * 255\n",
    "\n",
    "    # Convert to uint8 type\n",
    "    rgb = rgb.astype(np.uint8)\n",
    "    \n",
    "    # Save array as .png\n",
    "    im = Image.fromarray(rgb)\n",
    "    im.save('../protein_data/all/rgb_images/'+im_id+\"_rgb.png\")"
   ]
  },
  {
   "cell_type": "markdown",
   "metadata": {},
   "source": [
    "### Convert all Images and Save:"
   ]
  },
  {
   "cell_type": "code",
   "execution_count": 20,
   "metadata": {},
   "outputs": [
    {
     "name": "stdout",
     "output_type": "stream",
     "text": [
      "0  images saved, Runtime:  0.002  minutes\n",
      "1000  images saved, Runtime:  2.848  minutes\n",
      "2000  images saved, Runtime:  5.858  minutes\n",
      "3000  images saved, Runtime:  9.029  minutes\n",
      "4000  images saved, Runtime:  12.153  minutes\n",
      "5000  images saved, Runtime:  15.275  minutes\n",
      "6000  images saved, Runtime:  18.278  minutes\n",
      "7000  images saved, Runtime:  21.309  minutes\n",
      "8000  images saved, Runtime:  24.43  minutes\n",
      "9000  images saved, Runtime:  27.61  minutes\n",
      "10000  images saved, Runtime:  30.769  minutes\n",
      "11000  images saved, Runtime:  34.179  minutes\n",
      "12000  images saved, Runtime:  37.926  minutes\n",
      "13000  images saved, Runtime:  41.799  minutes\n",
      "14000  images saved, Runtime:  45.666  minutes\n",
      "15000  images saved, Runtime:  49.266  minutes\n",
      "16000  images saved, Runtime:  52.655  minutes\n",
      "17000  images saved, Runtime:  55.851  minutes\n",
      "18000  images saved, Runtime:  59.125  minutes\n",
      "19000  images saved, Runtime:  62.374  minutes\n",
      "20000  images saved, Runtime:  65.632  minutes\n",
      "21000  images saved, Runtime:  68.837  minutes\n",
      "22000  images saved, Runtime:  72.044  minutes\n",
      "23000  images saved, Runtime:  75.24  minutes\n",
      "24000  images saved, Runtime:  78.569  minutes\n",
      "25000  images saved, Runtime:  81.814  minutes\n",
      "26000  images saved, Runtime:  85.045  minutes\n",
      "27000  images saved, Runtime:  88.274  minutes\n",
      "28000  images saved, Runtime:  91.618  minutes\n",
      "29000  images saved, Runtime:  94.858  minutes\n",
      "30000  images saved, Runtime:  98.379  minutes\n",
      "31000  images saved, Runtime:  101.393  minutes\n"
     ]
    }
   ],
   "source": [
    "start = time.time()\n",
    "i = 0\n",
    "\n",
    "for im_id in df['Id']:\n",
    "\n",
    "    save_rgb_array(im_id)\n",
    "  \n",
    "    # Print out some feedback every 1000 images\n",
    "    if i % 1000 == 0:\n",
    "        print(i, ' images saved, Runtime: ', round((time.time() - start)/60, 3), ' minutes')\n",
    "        \n",
    "    i += 1"
   ]
  },
  {
   "cell_type": "markdown",
   "metadata": {},
   "source": [
    "<hr>"
   ]
  },
  {
   "cell_type": "markdown",
   "metadata": {},
   "source": [
    "<br>"
   ]
  }
 ],
 "metadata": {
  "kernelspec": {
   "display_name": "Python 3",
   "language": "python",
   "name": "python3"
  },
  "language_info": {
   "codemirror_mode": {
    "name": "ipython",
    "version": 3
   },
   "file_extension": ".py",
   "mimetype": "text/x-python",
   "name": "python",
   "nbconvert_exporter": "python",
   "pygments_lexer": "ipython3",
   "version": "3.6.6"
  }
 },
 "nbformat": 4,
 "nbformat_minor": 2
}
