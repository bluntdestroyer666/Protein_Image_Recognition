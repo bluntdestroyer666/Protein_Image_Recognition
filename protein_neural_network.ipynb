{
 "cells": [
  {
   "cell_type": "code",
   "execution_count": 1,
   "metadata": {},
   "outputs": [
    {
     "name": "stderr",
     "output_type": "stream",
     "text": [
      "Using TensorFlow backend.\n"
     ]
    },
    {
     "name": "stdout",
     "output_type": "stream",
     "text": [
      "Couldn't import dot_parser, loading of dot files will not be possible.\n"
     ]
    }
   ],
   "source": [
    "import pandas as pd\n",
    "import numpy as np\n",
    "import time\n",
    "import matplotlib.pyplot as plt\n",
    "\n",
    "import imageio # for opening the images into np arrays\n",
    "\n",
    "from sklearn.model_selection import train_test_split\n",
    "from sklearn.utils import class_weight\n",
    "\n",
    "from keras.models import Sequential\n",
    "from keras.layers import Conv2D, MaxPooling2D\n",
    "from keras.layers import Dense, Dropout, Flatten # Activation\n",
    "from keras.callbacks import ModelCheckpoint\n",
    "\n",
    "from tensorflow import set_random_seed\n",
    "\n",
    "%matplotlib inline"
   ]
  },
  {
   "cell_type": "code",
   "execution_count": 2,
   "metadata": {},
   "outputs": [],
   "source": [
    "# for getting reproducible results\n",
    "random_seed = 112\n",
    "np.random.seed(random_seed)"
   ]
  },
  {
   "cell_type": "markdown",
   "metadata": {},
   "source": [
    "### Read in Ids and Labels:"
   ]
  },
  {
   "cell_type": "code",
   "execution_count": 5,
   "metadata": {},
   "outputs": [],
   "source": [
    "data_filepath = '~/data/protein_data/protein_data/'\n",
    "df = pd.read_csv(data_filepath + 'clean_train.csv')\n",
    "\n",
    "df.drop(columns = 'Target', inplace=True) # not needed since it's been one-hot encoded"
   ]
  },
  {
   "cell_type": "markdown",
   "metadata": {},
   "source": [
    "### Take a Sample of all Training Image Ids"
   ]
  },
  {
   "cell_type": "code",
   "execution_count": 7,
   "metadata": {},
   "outputs": [],
   "source": [
    "# Slice size:\n",
    "sample_size = 1500\n",
    "\n",
    "# Slice out the portion of the training 'Id' to work with\n",
    "sample = df.sample(n=sample_size, random_state=random_seed)"
   ]
  },
  {
   "cell_type": "code",
   "execution_count": 8,
   "metadata": {},
   "outputs": [],
   "source": [
    "# Make X from Ids\n",
    "X = sample['Id']\n",
    "\n",
    "# make y from labels\n",
    "y = sample.iloc[:, 1:]"
   ]
  },
  {
   "cell_type": "markdown",
   "metadata": {},
   "source": [
    "### Train-Test Split:"
   ]
  },
  {
   "cell_type": "code",
   "execution_count": 9,
   "metadata": {},
   "outputs": [],
   "source": [
    "X_train_id, X_test_id, y_train, y_test = train_test_split(X, y, random_state=random_seed, test_size=.20)"
   ]
  },
  {
   "cell_type": "markdown",
   "metadata": {},
   "source": [
    "### Load Images:"
   ]
  },
  {
   "cell_type": "code",
   "execution_count": 12,
   "metadata": {},
   "outputs": [],
   "source": [
    "def load_img_slice(id_slice):\n",
    "# This function builds and returns an array of images out of a series of Ids\n",
    "    i = 0\n",
    "    \n",
    "    # Make empty X_array to fill with image data\n",
    "    X_array = np.empty((len(id_slice), 512, 512, 3))\n",
    "\n",
    "    # for each Id\n",
    "    for img in id_slice:\n",
    "\n",
    "        # Load image\n",
    "        X_array[i,:,:,:] = imageio.imread(data_filepath+'rgb_images/'+img+'_rgb.png')\n",
    "        i += 1\n",
    "\n",
    "    return X_array"
   ]
  },
  {
   "cell_type": "code",
   "execution_count": 13,
   "metadata": {},
   "outputs": [],
   "source": [
    "# Call the function to load the images\n",
    "X_train = load_img_slice(X_train_id)\n",
    "X_test = load_img_slice(X_test_id)"
   ]
  },
  {
   "cell_type": "markdown",
   "metadata": {},
   "source": [
    "### Neural Network:"
   ]
  },
  {
   "cell_type": "code",
   "execution_count": 14,
   "metadata": {},
   "outputs": [],
   "source": [
    "# Compute class_weights to pass into the model\n",
    "# protein_weights = class_weight.compute_class_weight('balanced', np.unique(y_train), y_train)"
   ]
  },
  {
   "cell_type": "code",
   "execution_count": 19,
   "metadata": {},
   "outputs": [],
   "source": [
    "# Instantiate model\n",
    "model = Sequential()\n",
    "\n",
    "# Input layer\n",
    "model.add(Conv2D(filters = 10,                   # number of filters\n",
    "                        kernel_size = 5,        # height/width of filter\n",
    "                        activation='relu',      # activation function \n",
    "                        input_shape=(X_train.shape[1],X_train.shape[2],X_train.shape[3]))) # shape of input (image)\n",
    "model.add(MaxPooling2D(pool_size=(2,2)))\n",
    "\n",
    "# 2\n",
    "model.add(Conv2D(10, kernel_size = 5, activation='relu'))\n",
    "model.add(MaxPooling2D(pool_size=(2,2)))\n",
    "\n",
    "# 3\n",
    "model.add(Conv2D(5, kernel_size = 3, activation='relu'))\n",
    "model.add(MaxPooling2D(pool_size=(2,2)))\n",
    "\n",
    "# 4\n",
    "model.add(Conv2D(5, kernel_size = 3, activation='relu'))\n",
    "model.add(MaxPooling2D(pool_size=(2,2)))\n",
    "\n",
    "# # 5\n",
    "# model.add(Conv2D(5, kernel_size = 5, activation='relu'))\n",
    "# model.add(MaxPooling2D(pool_size=(2,2)))\n",
    "\n",
    "# model.add(Dropout(0.25))\n",
    "\n",
    "# Flatten convolutional layers for fully connected layers\n",
    "model.add(Flatten())\n",
    "\n",
    "# Fully connected layers\n",
    "# 1\n",
    "model.add(Dense(3000, activation='relu'))\n",
    "model.add(Dropout(0.5))\n",
    "# 2\n",
    "model.add(Dense(3000, activation='relu'))\n",
    "model.add(Dropout(0.5))\n",
    "# 3\n",
    "model.add(Dense(3000, activation='relu'))\n",
    "model.add(Dropout(0.5))\n",
    "\n",
    "# Output layer\n",
    "model.add(Dense(y.shape[1], activation='softmax'))\n",
    "\n",
    "model.compile(loss='categorical_crossentropy',\n",
    "              optimizer='adam',\n",
    "              metrics=['accuracy'])\n",
    "\n",
    "# saves the model weights after each epoch if the validation loss score decreased\n",
    "checkpointer = ModelCheckpoint(filepath='../checkpoint_model.hdf5', verbose=1, save_best_only=True,) \n",
    "#                                monitor='val_acc', mode='max')"
   ]
  },
  {
   "cell_type": "markdown",
   "metadata": {},
   "source": [
    "### Fit!"
   ]
  },
  {
   "cell_type": "code",
   "execution_count": null,
   "metadata": {},
   "outputs": [
    {
     "name": "stdout",
     "output_type": "stream",
     "text": [
      "Train on 1200 samples, validate on 300 samples\n",
      "Epoch 1/15\n",
      "1200/1200 [==============================] - 525s 437ms/step - loss: 20.3764 - acc: 0.3883 - val_loss: 20.3625 - val_acc: 0.4667\n",
      "\n",
      "Epoch 00001: val_loss improved from inf to 20.36253, saving model to ../checkpoint_model.hdf5\n",
      "Epoch 2/15\n",
      "1200/1200 [==============================] - 513s 428ms/step - loss: 20.3222 - acc: 0.3925 - val_loss: 20.3625 - val_acc: 0.4667\n",
      "\n",
      "Epoch 00002: val_loss did not improve from 20.36253\n",
      "Epoch 3/15\n",
      "1200/1200 [==============================] - 526s 438ms/step - loss: 20.3222 - acc: 0.3925 - val_loss: 20.3625 - val_acc: 0.4667\n",
      "\n",
      "Epoch 00003: val_loss did not improve from 20.36253\n",
      "Epoch 4/15\n",
      "1200/1200 [==============================] - 514s 428ms/step - loss: 20.3222 - acc: 0.3925 - val_loss: 20.3625 - val_acc: 0.4667\n",
      "\n",
      "Epoch 00004: val_loss did not improve from 20.36253\n",
      "Epoch 5/15\n",
      "1200/1200 [==============================] - 514s 428ms/step - loss: 20.3222 - acc: 0.3925 - val_loss: 20.3625 - val_acc: 0.4667\n",
      "\n",
      "Epoch 00005: val_loss did not improve from 20.36253\n",
      "Epoch 6/15\n",
      "1200/1200 [==============================] - 511s 426ms/step - loss: 20.3222 - acc: 0.3925 - val_loss: 20.3625 - val_acc: 0.4667\n",
      "\n",
      "Epoch 00006: val_loss did not improve from 20.36253\n",
      "Epoch 7/15\n",
      "1200/1200 [==============================] - 510s 425ms/step - loss: 20.3222 - acc: 0.3925 - val_loss: 20.3625 - val_acc: 0.4667\n",
      "\n",
      "Epoch 00007: val_loss did not improve from 20.36253\n",
      "Epoch 8/15\n",
      " 555/1200 [============>.................] - ETA: 4:11 - loss: 20.0678 - acc: 0.4018"
     ]
    }
   ],
   "source": [
    "start = time.time()\n",
    "\n",
    "set_random_seed(random_seed) # set tensorflow random state\n",
    "\n",
    "result = model.fit(X_train, y_train,\n",
    "                   validation_data = (X_test, y_test), \n",
    "                   batch_size=15,\n",
    "                   epochs=15,\n",
    "                   verbose=1,\n",
    "#                    class_weight = protein_weights,\n",
    "                   callbacks = [checkpointer]);\n",
    "\n",
    "# Print the runtime:\n",
    "print('Runtime: ', round((time.time() - start)/60, 3), ' minutes')"
   ]
  },
  {
   "cell_type": "markdown",
   "metadata": {},
   "source": [
    "# Plot Accuracy vs. Epochs"
   ]
  },
  {
   "cell_type": "code",
   "execution_count": null,
   "metadata": {},
   "outputs": [],
   "source": [
    "fig, ax = plt.subplots(nrows = 1, ncols=2, figsize=(12,4))\n",
    "\n",
    "i = 0\n",
    "for metric in ['acc', 'loss']:\n",
    "    \n",
    "    # Change settings for each subplot\n",
    "    if i == 0:\n",
    "        metric_label = 'Accuracy'\n",
    "        c = '#1f77b4'\n",
    "    else:\n",
    "        metric_label = 'Loss Function'\n",
    "        c = 'green'\n",
    "\n",
    "    # Plot metrics\n",
    "    ax[i].plot(result.history[metric], color = c)\n",
    "    ax[i].plot(result.history['val_'+metric], color = 'orange')\n",
    "        \n",
    "    # Set title\n",
    "    ax[i].set_title(metric_label + ' vs. Epoch')\n",
    "\n",
    "    # Set axis labels\n",
    "    ax[i].set_ylabel(metric_label)\n",
    "    ax[i].set_xlabel('Epoch')\n",
    "\n",
    "    # Add a legend\n",
    "    ax[i].legend(['Train', 'Test'], loc='best')\n",
    "\n",
    "    # Plot girdlines:\n",
    "    ax[i].grid()\n",
    "\n",
    "    i += 1"
   ]
  },
  {
   "cell_type": "code",
   "execution_count": 14,
   "metadata": {},
   "outputs": [],
   "source": [
    "# check macro f1 score, that's how the cometition is evaluated\n",
    "# model.metrics_names\n"
   ]
  },
  {
   "cell_type": "markdown",
   "metadata": {},
   "source": [
    "### Kaggle Submission Link:\n",
    "\n",
    "https://www.kaggle.com/c/human-protein-atlas-image-classification/submit"
   ]
  },
  {
   "cell_type": "markdown",
   "metadata": {},
   "source": [
    "<hr>"
   ]
  },
  {
   "cell_type": "markdown",
   "metadata": {},
   "source": [
    "<br>"
   ]
  }
 ],
 "metadata": {
  "kernelspec": {
   "display_name": "Python 3",
   "language": "python",
   "name": "python3"
  },
  "language_info": {
   "codemirror_mode": {
    "name": "ipython",
    "version": 3
   },
   "file_extension": ".py",
   "mimetype": "text/x-python",
   "name": "python",
   "nbconvert_exporter": "python",
   "pygments_lexer": "ipython3",
   "version": "3.6.6"
  }
 },
 "nbformat": 4,
 "nbformat_minor": 2
}
