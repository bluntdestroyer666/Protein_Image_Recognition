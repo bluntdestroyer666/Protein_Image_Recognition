{
 "cells": [
  {
   "cell_type": "code",
   "execution_count": 1,
   "metadata": {},
   "outputs": [
    {
     "name": "stderr",
     "output_type": "stream",
     "text": [
      "Using TensorFlow backend.\n"
     ]
    },
    {
     "name": "stdout",
     "output_type": "stream",
     "text": [
      "Couldn't import dot_parser, loading of dot files will not be possible.\n"
     ]
    }
   ],
   "source": [
    "import pandas as pd\n",
    "import numpy as np\n",
    "import time\n",
    "import matplotlib.pyplot as plt\n",
    "\n",
    "import imageio # for opening the images into np arrays\n",
    "\n",
    "from sklearn.model_selection import train_test_split\n",
    "from sklearn.utils import class_weight\n",
    "\n",
    "from keras.models import Sequential\n",
    "from keras.layers import Conv2D, MaxPooling2D\n",
    "from keras.layers import Dense, Dropout, Flatten # Activation\n",
    "from keras.callbacks import ModelCheckpoint\n",
    "\n",
    "from tensorflow import set_random_seed\n",
    "\n",
    "%matplotlib inline"
   ]
  },
  {
   "cell_type": "code",
   "execution_count": 2,
   "metadata": {},
   "outputs": [],
   "source": [
    "# for getting reproducible results\n",
    "random_seed = 112\n",
    "np.random.seed(random_seed)"
   ]
  },
  {
   "cell_type": "markdown",
   "metadata": {},
   "source": [
    "### Read in Data:"
   ]
  },
  {
   "cell_type": "code",
   "execution_count": 3,
   "metadata": {},
   "outputs": [],
   "source": [
    "data_filepath = '../protein_data/all/'\n",
    "df = pd.read_csv(data_filepath + 'clean_train.csv')\n",
    "\n",
    "df.drop(columns = 'Target', inplace=True) # not needed since it's been one-hot encoded"
   ]
  },
  {
   "cell_type": "markdown",
   "metadata": {},
   "source": [
    "### Train-Test Split:"
   ]
  },
  {
   "cell_type": "code",
   "execution_count": 4,
   "metadata": {},
   "outputs": [],
   "source": [
    "def load_img_slice(train_slice):\n",
    "# This function builds and returns an array of images out of a series of Ids\n",
    "    i = 0\n",
    "    \n",
    "    # Make empty X_array to fill with image data\n",
    "    X_array = np.empty((len(train_slice), 512, 512, 3))\n",
    "\n",
    "    # for each Id\n",
    "    for img in train_slice:\n",
    "\n",
    "        # Load image\n",
    "        X_array[i,:,:,:] = imageio.imread('../protein_data/all/rgb_images/'+img+'_rgb.png')\n",
    "        i += 1\n",
    "\n",
    "    return X_array"
   ]
  },
  {
   "cell_type": "code",
   "execution_count": 5,
   "metadata": {},
   "outputs": [],
   "source": [
    "# Slice size:\n",
    "slice_size = 3000\n",
    "\n",
    "# Slice out the portion of the training data to work with\n",
    "train_slice = df['Id'][0:slice_size]\n",
    "\n",
    "# make slice of labels\n",
    "y = df.iloc[0:slice_size, 1:]"
   ]
  },
  {
   "cell_type": "code",
   "execution_count": 6,
   "metadata": {},
   "outputs": [],
   "source": [
    "# Call the function to load the images\n",
    "X = load_img_slice(train_slice)"
   ]
  },
  {
   "cell_type": "code",
   "execution_count": 7,
   "metadata": {},
   "outputs": [],
   "source": [
    "X_train, X_test, y_train, y_test = train_test_split(X, y, random_state=random_seed, test_size=.25)"
   ]
  },
  {
   "cell_type": "code",
   "execution_count": 8,
   "metadata": {},
   "outputs": [
    {
     "data": {
      "text/plain": [
       "(3000, 512, 512, 3)"
      ]
     },
     "execution_count": 8,
     "metadata": {},
     "output_type": "execute_result"
    }
   ],
   "source": [
    "X.shape"
   ]
  },
  {
   "cell_type": "markdown",
   "metadata": {},
   "source": [
    "### Neural Network:"
   ]
  },
  {
   "cell_type": "code",
   "execution_count": 10,
   "metadata": {},
   "outputs": [],
   "source": [
    "# Compute class_weights to pass into the model\n",
    "# class_weights = class_weight.compute_class_weight('balanced', np.unique(y_train), y_train)"
   ]
  },
  {
   "cell_type": "code",
   "execution_count": 16,
   "metadata": {},
   "outputs": [],
   "source": [
    "# Instantiate model\n",
    "model = Sequential()\n",
    "\n",
    "# Input layer\n",
    "model.add(Conv2D(filters = 5,                   # number of filters\n",
    "                        kernel_size = 5,        # height/width of filter\n",
    "                        activation='relu',      # activation function \n",
    "                        input_shape=(X.shape[1],X.shape[2],X.shape[3]))) # shape of input (image)\n",
    "model.add(MaxPooling2D(pool_size=(2,2)))\n",
    "\n",
    "# 2\n",
    "model.add(Conv2D(5, kernel_size = 5, activation='relu'))\n",
    "model.add(MaxPooling2D(pool_size=(2,2)))\n",
    "\n",
    "# 3\n",
    "model.add(Conv2D(5, kernel_size = 5, activation='relu'))\n",
    "model.add(MaxPooling2D(pool_size=(2,2)))\n",
    "\n",
    "# 4\n",
    "model.add(Conv2D(5, kernel_size = 5, activation='relu'))\n",
    "model.add(MaxPooling2D(pool_size=(2,2)))\n",
    "\n",
    "# 5\n",
    "model.add(Conv2D(5, kernel_size = 5, activation='relu'))\n",
    "model.add(MaxPooling2D(pool_size=(2,2)))\n",
    "\n",
    "# model.add(Dropout(0.25))\n",
    "\n",
    "# Flatten convolutional layers for fully connected layers\n",
    "model.add(Flatten())\n",
    "\n",
    "# Fully connected layers\n",
    "# 1\n",
    "model.add(Dense(1500, activation='relu'))\n",
    "model.add(Dropout(0.5))\n",
    "# 2\n",
    "model.add(Dense(1500, activation='relu'))\n",
    "model.add(Dropout(0.5))\n",
    "# 3\n",
    "model.add(Dense(1500, activation='relu'))\n",
    "model.add(Dropout(0.5))\n",
    "\n",
    "# Output layer\n",
    "model.add(Dense(y.shape[1], activation='softmax'))\n",
    "\n",
    "model.compile(loss='categorical_crossentropy',\n",
    "              optimizer='adam',\n",
    "              metrics=['accuracy'])\n",
    "\n",
    "# saves the model weights after each epoch if the validation loss score decreased\n",
    "checkpointer = ModelCheckpoint(filepath='assets/checkpoint_model.hdf5', verbose=1, save_best_only=True,) \n",
    "#                                monitor='val_acc', mode='max')"
   ]
  },
  {
   "cell_type": "code",
   "execution_count": 17,
   "metadata": {},
   "outputs": [
    {
     "name": "stdout",
     "output_type": "stream",
     "text": [
      "Train on 2250 samples, validate on 750 samples\n",
      "Epoch 1/50\n",
      "2250/2250 [==============================] - 1185s 527ms/step - loss: 18.7499 - acc: 0.4040 - val_loss: 5.1041 - val_acc: 0.4093\n",
      "\n",
      "Epoch 00001: val_loss improved from inf to 5.10411, saving model to assets/checkpoint_model.hdf5\n",
      "Epoch 2/50\n",
      "2250/2250 [==============================] - 979s 435ms/step - loss: 4.3935 - acc: 0.3853 - val_loss: 4.2772 - val_acc: 0.4093\n",
      "\n",
      "Epoch 00002: val_loss improved from 5.10411 to 4.27721, saving model to assets/checkpoint_model.hdf5\n",
      "Epoch 3/50\n",
      "2250/2250 [==============================] - 936s 416ms/step - loss: 4.3049 - acc: 0.4156 - val_loss: 4.2346 - val_acc: 0.4093\n",
      "\n",
      "Epoch 00003: val_loss improved from 4.27721 to 4.23457, saving model to assets/checkpoint_model.hdf5\n",
      "Epoch 4/50\n",
      "2250/2250 [==============================] - 940s 418ms/step - loss: 4.2756 - acc: 0.4160 - val_loss: 4.2432 - val_acc: 0.4093\n",
      "\n",
      "Epoch 00004: val_loss did not improve from 4.23457\n",
      "Epoch 5/50\n",
      "2250/2250 [==============================] - 920s 409ms/step - loss: 4.2636 - acc: 0.4151 - val_loss: 4.2493 - val_acc: 0.4093\n",
      "\n",
      "Epoch 00005: val_loss did not improve from 4.23457\n",
      "Epoch 6/50\n",
      "2250/2250 [==============================] - 925s 411ms/step - loss: 4.2335 - acc: 0.4018 - val_loss: 4.2707 - val_acc: 0.4080\n",
      "\n",
      "Epoch 00006: val_loss did not improve from 4.23457\n",
      "Epoch 7/50\n",
      "2250/2250 [==============================] - 930s 414ms/step - loss: 4.1805 - acc: 0.4040 - val_loss: 4.2745 - val_acc: 0.4053\n",
      "\n",
      "Epoch 00007: val_loss did not improve from 4.23457\n",
      "Epoch 8/50\n",
      "2250/2250 [==============================] - 939s 417ms/step - loss: 4.1359 - acc: 0.4018 - val_loss: 4.3325 - val_acc: 0.3907\n",
      "\n",
      "Epoch 00008: val_loss did not improve from 4.23457\n",
      "Epoch 9/50\n",
      "2250/2250 [==============================] - 919s 409ms/step - loss: 3.9862 - acc: 0.3982 - val_loss: 4.4131 - val_acc: 0.3827\n",
      "\n",
      "Epoch 00009: val_loss did not improve from 4.23457\n",
      "Epoch 10/50\n",
      "2250/2250 [==============================] - 912s 405ms/step - loss: 3.8520 - acc: 0.4129 - val_loss: 4.5578 - val_acc: 0.3280\n",
      "\n",
      "Epoch 00010: val_loss did not improve from 4.23457\n",
      "Epoch 11/50\n",
      "2250/2250 [==============================] - 926s 411ms/step - loss: 3.6607 - acc: 0.4324 - val_loss: 4.5987 - val_acc: 0.3800\n",
      "\n",
      "Epoch 00011: val_loss did not improve from 4.23457\n",
      "Epoch 12/50\n",
      "2250/2250 [==============================] - 943s 419ms/step - loss: 3.4473 - acc: 0.4378 - val_loss: 4.8031 - val_acc: 0.2947\n",
      "\n",
      "Epoch 00012: val_loss did not improve from 4.23457\n",
      "Epoch 13/50\n",
      "2250/2250 [==============================] - 929s 413ms/step - loss: 3.2296 - acc: 0.4547 - val_loss: 4.8458 - val_acc: 0.2947\n",
      "\n",
      "Epoch 00013: val_loss did not improve from 4.23457\n",
      "Epoch 14/50\n",
      "2250/2250 [==============================] - 932s 414ms/step - loss: 2.9972 - acc: 0.5009 - val_loss: 5.0297 - val_acc: 0.2667\n",
      "\n",
      "Epoch 00014: val_loss did not improve from 4.23457\n",
      "Epoch 15/50\n",
      "2250/2250 [==============================] - 921s 410ms/step - loss: 2.7642 - acc: 0.5271 - val_loss: 5.1181 - val_acc: 0.2813\n",
      "\n",
      "Epoch 00015: val_loss did not improve from 4.23457\n",
      "Epoch 16/50\n",
      "2250/2250 [==============================] - 931s 414ms/step - loss: 2.6357 - acc: 0.5573 - val_loss: 5.0981 - val_acc: 0.2533\n",
      "\n",
      "Epoch 00016: val_loss did not improve from 4.23457\n",
      "Epoch 17/50\n",
      "2250/2250 [==============================] - 922s 410ms/step - loss: 2.4636 - acc: 0.5889 - val_loss: 5.1753 - val_acc: 0.2107\n",
      "\n",
      "Epoch 00017: val_loss did not improve from 4.23457\n",
      "Epoch 18/50\n",
      "2250/2250 [==============================] - 945s 420ms/step - loss: 2.3115 - acc: 0.5898 - val_loss: 5.3102 - val_acc: 0.1947\n",
      "\n",
      "Epoch 00018: val_loss did not improve from 4.23457\n",
      "Epoch 19/50\n",
      "2250/2250 [==============================] - 947s 421ms/step - loss: 2.1749 - acc: 0.6164 - val_loss: 5.1892 - val_acc: 0.2053\n",
      "\n",
      "Epoch 00019: val_loss did not improve from 4.23457\n",
      "Epoch 20/50\n",
      "2250/2250 [==============================] - 932s 414ms/step - loss: 2.0754 - acc: 0.6369 - val_loss: 5.1839 - val_acc: 0.1693\n",
      "\n",
      "Epoch 00020: val_loss did not improve from 4.23457\n",
      "Epoch 21/50\n",
      "2250/2250 [==============================] - 949s 422ms/step - loss: 2.0150 - acc: 0.6333 - val_loss: 5.2713 - val_acc: 0.2053\n",
      "\n",
      "Epoch 00021: val_loss did not improve from 4.23457\n",
      "Epoch 22/50\n",
      "2250/2250 [==============================] - 947s 421ms/step - loss: 1.8918 - acc: 0.6622 - val_loss: 5.5657 - val_acc: 0.2227\n",
      "\n",
      "Epoch 00022: val_loss did not improve from 4.23457\n",
      "Epoch 23/50\n",
      "2250/2250 [==============================] - 948s 421ms/step - loss: 1.8941 - acc: 0.6573 - val_loss: 5.2682 - val_acc: 0.2080\n",
      "\n",
      "Epoch 00023: val_loss did not improve from 4.23457\n",
      "Epoch 24/50\n",
      "2250/2250 [==============================] - 957s 425ms/step - loss: 1.8105 - acc: 0.6627 - val_loss: 5.4969 - val_acc: 0.2320\n",
      "\n",
      "Epoch 00024: val_loss did not improve from 4.23457\n",
      "Epoch 25/50\n",
      "2250/2250 [==============================] - 950s 422ms/step - loss: 1.7225 - acc: 0.6729 - val_loss: 5.6034 - val_acc: 0.2280\n",
      "\n",
      "Epoch 00025: val_loss did not improve from 4.23457\n",
      "Epoch 26/50\n",
      "2250/2250 [==============================] - 945s 420ms/step - loss: 1.7014 - acc: 0.6773 - val_loss: 5.6486 - val_acc: 0.2307\n",
      "\n",
      "Epoch 00026: val_loss did not improve from 4.23457\n",
      "Epoch 27/50\n",
      "2250/2250 [==============================] - 946s 420ms/step - loss: 1.6539 - acc: 0.6831 - val_loss: 5.4583 - val_acc: 0.2133\n",
      "\n",
      "Epoch 00027: val_loss did not improve from 4.23457\n",
      "Epoch 28/50\n",
      "2250/2250 [==============================] - 944s 419ms/step - loss: 1.6038 - acc: 0.6929 - val_loss: 5.6140 - val_acc: 0.2107\n",
      "\n",
      "Epoch 00028: val_loss did not improve from 4.23457\n",
      "Epoch 29/50\n",
      "2250/2250 [==============================] - 947s 421ms/step - loss: 1.5856 - acc: 0.6898 - val_loss: 5.7434 - val_acc: 0.2413\n",
      "\n",
      "Epoch 00029: val_loss did not improve from 4.23457\n",
      "Epoch 30/50\n",
      "2250/2250 [==============================] - 957s 425ms/step - loss: 1.5497 - acc: 0.6978 - val_loss: 5.6951 - val_acc: 0.2173\n",
      "\n",
      "Epoch 00030: val_loss did not improve from 4.23457\n",
      "Epoch 31/50\n",
      "2250/2250 [==============================] - 945s 420ms/step - loss: 1.4964 - acc: 0.6893 - val_loss: 5.8191 - val_acc: 0.2053\n",
      "\n",
      "Epoch 00031: val_loss did not improve from 4.23457\n",
      "Epoch 32/50\n",
      "2250/2250 [==============================] - 922s 410ms/step - loss: 1.4907 - acc: 0.7053 - val_loss: 5.9746 - val_acc: 0.2427\n",
      "\n",
      "Epoch 00032: val_loss did not improve from 4.23457\n",
      "Epoch 33/50\n",
      "2250/2250 [==============================] - 949s 422ms/step - loss: 1.4693 - acc: 0.7022 - val_loss: 5.8370 - val_acc: 0.2107\n",
      "\n",
      "Epoch 00033: val_loss did not improve from 4.23457\n",
      "Epoch 34/50\n",
      "2250/2250 [==============================] - 954s 424ms/step - loss: 1.4364 - acc: 0.6858 - val_loss: 5.9057 - val_acc: 0.2120\n",
      "\n",
      "Epoch 00034: val_loss did not improve from 4.23457\n",
      "Epoch 35/50\n",
      "2250/2250 [==============================] - 974s 433ms/step - loss: 1.4177 - acc: 0.7067 - val_loss: 5.9887 - val_acc: 0.2027\n",
      "\n",
      "Epoch 00035: val_loss did not improve from 4.23457\n",
      "Epoch 36/50\n",
      "2250/2250 [==============================] - 973s 432ms/step - loss: 1.3851 - acc: 0.7089 - val_loss: 6.1179 - val_acc: 0.2347\n",
      "\n",
      "Epoch 00036: val_loss did not improve from 4.23457\n",
      "Epoch 37/50\n",
      "2250/2250 [==============================] - 976s 434ms/step - loss: 1.4142 - acc: 0.7160 - val_loss: 5.9468 - val_acc: 0.2000\n",
      "\n",
      "Epoch 00037: val_loss did not improve from 4.23457\n",
      "Epoch 38/50\n",
      "2250/2250 [==============================] - 944s 420ms/step - loss: 1.3885 - acc: 0.7004 - val_loss: 6.1200 - val_acc: 0.2147\n",
      "\n",
      "Epoch 00038: val_loss did not improve from 4.23457\n",
      "Epoch 39/50\n",
      "2250/2250 [==============================] - 944s 419ms/step - loss: 1.3679 - acc: 0.7080 - val_loss: 6.1562 - val_acc: 0.2120\n",
      "\n",
      "Epoch 00039: val_loss did not improve from 4.23457\n",
      "Epoch 40/50\n",
      "2250/2250 [==============================] - 946s 421ms/step - loss: 1.3569 - acc: 0.7138 - val_loss: 6.2781 - val_acc: 0.2213\n",
      "\n",
      "Epoch 00040: val_loss did not improve from 4.23457\n",
      "Epoch 41/50\n",
      "2250/2250 [==============================] - 946s 420ms/step - loss: 1.3500 - acc: 0.7089 - val_loss: 6.0847 - val_acc: 0.2413\n",
      "\n",
      "Epoch 00041: val_loss did not improve from 4.23457\n",
      "Epoch 42/50\n",
      "2250/2250 [==============================] - 949s 422ms/step - loss: 1.3240 - acc: 0.7031 - val_loss: 5.9915 - val_acc: 0.2187\n",
      "\n",
      "Epoch 00042: val_loss did not improve from 4.23457\n",
      "Epoch 43/50\n"
     ]
    },
    {
     "name": "stdout",
     "output_type": "stream",
     "text": [
      "2250/2250 [==============================] - 952s 423ms/step - loss: 1.3102 - acc: 0.7013 - val_loss: 6.2102 - val_acc: 0.2267\n",
      "\n",
      "Epoch 00043: val_loss did not improve from 4.23457\n",
      "Epoch 44/50\n",
      "2250/2250 [==============================] - 950s 422ms/step - loss: 1.2869 - acc: 0.7151 - val_loss: 6.3678 - val_acc: 0.2013\n",
      "\n",
      "Epoch 00044: val_loss did not improve from 4.23457\n",
      "Epoch 45/50\n",
      "2250/2250 [==============================] - 958s 426ms/step - loss: 1.2752 - acc: 0.7120 - val_loss: 6.3741 - val_acc: 0.1853\n",
      "\n",
      "Epoch 00045: val_loss did not improve from 4.23457\n",
      "Epoch 46/50\n",
      "2250/2250 [==============================] - 958s 426ms/step - loss: 1.2864 - acc: 0.7156 - val_loss: 6.5488 - val_acc: 0.2080\n",
      "\n",
      "Epoch 00046: val_loss did not improve from 4.23457\n",
      "Epoch 47/50\n",
      "2250/2250 [==============================] - 949s 422ms/step - loss: 1.2634 - acc: 0.7124 - val_loss: 6.7426 - val_acc: 0.2080\n",
      "\n",
      "Epoch 00047: val_loss did not improve from 4.23457\n",
      "Epoch 48/50\n",
      "2250/2250 [==============================] - 963s 428ms/step - loss: 1.2738 - acc: 0.7089 - val_loss: 6.5992 - val_acc: 0.2133\n",
      "\n",
      "Epoch 00048: val_loss did not improve from 4.23457\n",
      "Epoch 49/50\n",
      "2250/2250 [==============================] - 946s 421ms/step - loss: 1.2703 - acc: 0.7116 - val_loss: 6.7464 - val_acc: 0.2267\n",
      "\n",
      "Epoch 00049: val_loss did not improve from 4.23457\n",
      "Epoch 50/50\n",
      "2250/2250 [==============================] - 953s 423ms/step - loss: 1.2414 - acc: 0.7258 - val_loss: 6.8842 - val_acc: 0.2080\n",
      "\n",
      "Epoch 00050: val_loss did not improve from 4.23457\n",
      "Runtime:  790.958  minutes\n"
     ]
    }
   ],
   "source": [
    "start = time.time()\n",
    "\n",
    "set_random_seed(random_seed) # set tensorflow random state\n",
    "\n",
    "result = model.fit(X_train, y_train,\n",
    "                   validation_data = (X_test, y_test), \n",
    "                   batch_size=25,\n",
    "                   epochs=50,\n",
    "                   verbose=1,\n",
    "#                    class_weight = class_weights,\n",
    "                   callbacks = [checkpointer]);\n",
    "\n",
    "# Print the runtime:\n",
    "print('Runtime: ', round((time.time() - start)/60, 3), ' minutes')"
   ]
  },
  {
   "cell_type": "markdown",
   "metadata": {},
   "source": [
    "# Plot Accuracy vs. Epochs"
   ]
  },
  {
   "cell_type": "code",
   "execution_count": 41,
   "metadata": {},
   "outputs": [
    {
     "data": {
      "image/png": "[encoded data removed]",
      "text/plain": [
       "<Figure size 864x288 with 2 Axes>"
      ]
     },
     "metadata": {
      "needs_background": "light"
     },
     "output_type": "display_data"
    }
   ],
   "source": [
    "fig, ax = plt.subplots(nrows = 1, ncols=2, figsize=(12,4))\n",
    "\n",
    "i = 0\n",
    "for metric in ['acc', 'loss']:\n",
    "    \n",
    "    # Change settings for each subplot\n",
    "    if i == 0:\n",
    "        metric_label = 'Accuracy'\n",
    "        c = '#1f77b4'\n",
    "    else:\n",
    "        metric_label = 'Loss Function'\n",
    "        c = 'green'\n",
    "\n",
    "    # Plot metrics\n",
    "    ax[i].plot(result.history[metric], color = c)\n",
    "    ax[i].plot(result.history['val_'+metric], color = 'orange')\n",
    "        \n",
    "    # Set title\n",
    "    ax[i].set_title(metric_label + ' vs. Epoch')\n",
    "\n",
    "    # Set axis labels\n",
    "    ax[i].set_ylabel(metric_label)\n",
    "    ax[i].set_xlabel('Epoch')\n",
    "\n",
    "    # Add a legend\n",
    "    ax[i].legend(['Train', 'Test'], loc='best')\n",
    "\n",
    "    # Plot girdlines:\n",
    "    ax[i].grid()\n",
    "\n",
    "    i += 1"
   ]
  },
  {
   "cell_type": "code",
   "execution_count": 19,
   "metadata": {},
   "outputs": [],
   "source": [
    "# check macro f1 score, that's how the cometition is evaluated\n",
    "# model.metrics_names"
   ]
  },
  {
   "cell_type": "markdown",
   "metadata": {},
   "source": [
    "### Kaggle Submission Link:\n",
    "\n",
    "https://www.kaggle.com/c/human-protein-atlas-image-classification/submit"
   ]
  },
  {
   "cell_type": "markdown",
   "metadata": {},
   "source": [
    "<hr>"
   ]
  },
  {
   "cell_type": "markdown",
   "metadata": {},
   "source": [
    "<br>"
   ]
  }
 ],
 "metadata": {
  "kernelspec": {
   "display_name": "Python 3",
   "language": "python",
   "name": "python3"
  },
  "language_info": {
   "codemirror_mode": {
    "name": "ipython",
    "version": 3
   },
   "file_extension": ".py",
   "mimetype": "text/x-python",
   "name": "python",
   "nbconvert_exporter": "python",
   "pygments_lexer": "ipython3",
   "version": "3.6.6"
  }
 },
 "nbformat": 4,
 "nbformat_minor": 2
}
